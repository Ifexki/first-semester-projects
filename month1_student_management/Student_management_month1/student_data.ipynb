{
 "cells": [
  {
   "cell_type": "code",
   "execution_count": null,
   "id": "3f37be24",
   "metadata": {},
   "outputs": [],
   "source": [
    "student_name = input('What is your name')\n",
    "age = int(input('What is your age'))\n",
    "grade = int(input('What is your grade'))\n",
    "\n",
    "students = []\n",
    "\n",
    "def add_student(student_name, age, grade):\n",
    "    student_information = {\n",
    "        'name': student_name,\n",
    "        'age': age,\n",
    "        'grade': grade\n",
    "    }\n",
    "    return student_information\n",
    "\n",
    "\n",
    " \n",
    "\n",
    "\n",
    "student = add_student(student_name, age, grade)\n",
    "\n",
    "students.append(student)"
   ]
  },
  {
   "cell_type": "code",
   "execution_count": null,
   "id": "e3e94596",
   "metadata": {},
   "outputs": [],
   "source": [
    "#2. view_students(): Displays all added students.\n",
    "\n",
    "#Create a function view_students\n",
    "def view_students():\n",
    "    #Loop through the list created.\n",
    "    for stu in students:\n",
    "        print(stu) \n",
    "\n",
    "view_students()"
   ]
  },
  {
   "cell_type": "code",
   "execution_count": null,
   "id": "647fabb5",
   "metadata": {},
   "outputs": [],
   "source": []
  }
 ],
 "metadata": {
  "kernelspec": {
   "display_name": "assignment_env (3.13.7)",
   "language": "python",
   "name": "python3"
  },
  "language_info": {
   "name": "python",
   "version": "3.13.7"
  }
 },
 "nbformat": 4,
 "nbformat_minor": 5
}
